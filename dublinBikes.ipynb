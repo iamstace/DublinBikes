{
 "cells": [
  {
   "cell_type": "code",
   "execution_count": 1,
   "id": "21b8b17f",
   "metadata": {},
   "outputs": [
    {
     "name": "stdout",
     "output_type": "stream",
     "text": [
      "Modules Loaded\n"
     ]
    }
   ],
   "source": [
    "try:\n",
    "    import os\n",
    "    import time\n",
    "    import getpass\n",
    "    import requests\n",
    "    from arcgis.gis import GIS\n",
    "    from arcgis.features import FeatureLayerCollection\n",
    "    from arcgis.mapping import WebMap\n",
    "    \n",
    "    print('Modules loaded successfully')\n",
    "    \n",
    "except ImportError as e:\n",
    "    print(f\"Error importing module: {e}\")"
   ]
  },
  {
   "cell_type": "code",
   "execution_count": 2,
   "id": "eb3c4f5a-d2a3-4a61-8617-ad4cd180277e",
   "metadata": {},
   "outputs": [
    {
     "name": "stdout",
     "output_type": "stream",
     "text": [
      "Enter your ArcGIS Online username:Stacey_Vernon_GES23\n",
      "Enter your ArcGIS Online password:········\n",
      "Login successful. Logged in as: Stacey_Vernon_GES23\n"
     ]
    }
   ],
   "source": [
    "# Login to ArcGIS Online (AGOL) by requesting the user to input a username and password\n",
    "# documentation on getpass: https://docs.python.org/3/library/getpass.html\n",
    "\n",
    "def login_AGOL():\n",
    "    try:\n",
    "        # prompt the user to enter their AGOL username\n",
    "        username = input(\"Enter your ArcGIS Online username:\")\n",
    "\n",
    "        # prompt the user to enter their AGOL password (without echoing)\n",
    "        password = getpass.getpass(\"Enter your ArcGIS Online password:\")\n",
    "\n",
    "        # create a GIS object and login to AGOL\n",
    "        gis = GIS(\"https://www.arcgis.com\", username, password)\n",
    "\n",
    "        # confirm the login was successful\n",
    "        if gis.users.me is not None:\n",
    "            print (\"Login successful. Logged in as:\", gis.users.me.username)\n",
    "        else:\n",
    "            print (\"Log in failed. Please check credientials.\")\n",
    "            return None\n",
    "    \n",
    "        # return the object\n",
    "        return gis\n",
    "    \n",
    "    except Exception as e:\n",
    "        print (\"An error occurred during login:\", e)\n",
    "        return None\n",
    "    \n",
    "# run the login function\n",
    "\n",
    "gis = login_AGOL()"
   ]
  },
  {
   "cell_type": "code",
   "execution_count": 11,
   "id": "5f869d3a",
   "metadata": {},
   "outputs": [
    {
     "name": "stdout",
     "output_type": "stream",
     "text": [
      "Bike Station and Zone data already exists in AGOL.\n"
     ]
    }
   ],
   "source": [
    "# Function to publish GeoJSON data to AGOL\n",
    "def publish_geojson_to_agol(gis):\n",
    "    try:\n",
    "        BikeStationsZone_data = None\n",
    "\n",
    "        # Search for existing feature layers with the title \"BikeStations_Zones\"\n",
    "        zoneSearch = gis.content.search(\"title:BikeStations_Zones\", item_type=\"Feature Layer\")\n",
    "\n",
    "        # If no existing feature layer is found, create a new one\n",
    "        if not zoneSearch:\n",
    "            # Set up the feature service properties in AGOL\n",
    "            item_properties = {\n",
    "                \"title\": \"BikeStations_Zones\",\n",
    "                \"description\": \"Dublin Bike Stations and Zones generated from GeoJSON provided by Bleeper Bikes\",\n",
    "                \"tags\": \"dublinBikes\",\n",
    "                \"type\": \"GeoJson\"  # Note: Ensure this is the correct type, usually 'Feature Layer' is used for publishing\n",
    "            }\n",
    "\n",
    "            # URL link to the GeoJSON file\n",
    "            geojson_url = \"https://data.smartdublin.ie/dataset/09870e46-26a3-4dc2-b632-4d1fba5092f9/resource/40a718a8-cb99-468d-962b-af4fed4b0def/download/bleeperbike_map.geojson\"\n",
    "            geojson_item = gis.content.add(item_properties, geojson_url)\n",
    "\n",
    "            # Publish the GeoJSON as a feature layer\n",
    "            BikeStationsZone_data = geojson_item.publish()\n",
    "            print(\"Data published. New feature layer created.\")\n",
    "            \n",
    "        else:\n",
    "            # Handle the case where the feature layer already exists\n",
    "            BikeStationsZone_data = zoneSearch[0]\n",
    "            print(\"Bike Station and Zone data already exists in AGOL.\")\n",
    "        \n",
    "        return BikeStationsZone_data\n",
    "\n",
    "    except Exception as e:\n",
    "        print(\"An error occurred during publishing:\", e)\n",
    "        return None\n",
    "\n",
    "# publish the geojso\n",
    "BikeStationsZone_data = publish_geojson_to_agol(gis)"
   ]
  },
  {
   "cell_type": "code",
   "execution_count": 13,
   "id": "0635f44f",
   "metadata": {},
   "outputs": [
    {
     "name": "stdout",
     "output_type": "stream",
     "text": [
      "Data retrieved successfully.\n"
     ]
    }
   ],
   "source": [
    "# URL to API endpoint for bike locations\n",
    "bike_url = \"https://data.smartdublin.ie/bleeperbike-api/bikes/bleeper_bikes/current/bikes.geojson\"\n",
    "\n",
    "def fetch_bike_data(url, max_retries=5, retry_delay=60):\n",
    "    \"\"\"\n",
    "    Fetches bike data from the API endpoint with retries on failure.\n",
    "\n",
    "    Parameters:\n",
    "        url (str): The URL of the API endpoint.\n",
    "        max_retries (int): Maximum number of retries before giving up.\n",
    "        retry_delay (int): Delay between retries in seconds.\n",
    "\n",
    "    Returns:\n",
    "        dict or None: The bike data if successful, None otherwise.\n",
    "    \"\"\"\n",
    "    attempt = 0\n",
    "    while attempt < max_retries:\n",
    "        try:\n",
    "            response = requests.get(url)\n",
    "            if response.status_code in [200, 201]:\n",
    "                # Parse the JSON response\n",
    "                bike_data = response.json()\n",
    "                return bike_data  # Data retrieval successful\n",
    "            else:\n",
    "                print(f'Failed to retrieve data. Status code: {response.status_code}. Retrying in {retry_delay} seconds...')\n",
    "        except requests.RequestException as e:\n",
    "            print(f'An error occurred: {e}. Retrying in {retry_delay} seconds...')\n",
    "        \n",
    "        # Increment attempt counter and wait before retrying\n",
    "        attempt += 1\n",
    "        time.sleep(retry_delay)\n",
    "\n",
    "    return None  # Data retrieval failed after retries\n",
    "\n",
    "# Fetch the bike data\n",
    "bike_data = fetch_bike_data(bike_url)\n",
    "\n",
    "# Output message based on data retrieval success or failure\n",
    "if bike_data:\n",
    "    print('Data retrieved successfully.')\n",
    "else:\n",
    "    print('No data retrieved, cannot proceed with further actions.')\n"
   ]
  },
  {
   "cell_type": "code",
   "execution_count": 15,
   "id": "ebd12a13",
   "metadata": {},
   "outputs": [
    {
     "name": "stdout",
     "output_type": "stream",
     "text": [
      "Successfully created new feature service and published live bike location\n"
     ]
    }
   ],
   "source": [
    "# create a FLC from the GeoJSON\n",
    "\n",
    "# set up the feature service properties in AGOL for the stations and zone dataset\n",
    "item_properties = {\n",
    "    \"title\": \"Bike_Locations_v2\", #provide a title for your item\n",
    "    \"description\": \"Dublin Bike current locations\", #add a description of the data\n",
    "    \"tags\": \"dublinBikes\", # add tags to data to improve AGOL search functionality\n",
    "    \"type\": \"GeoJson\" # define the type of data you are trying to pubish\n",
    "    }\n",
    "    \n",
    "# search AGOL contents to check if the layer already exists\n",
    "fl_search = gis.content.search(\"title:Bike_Locations\",item_type=\"Feature Layer\")\n",
    "\n",
    "if not fl_search:\n",
    "    # if search list is empty (meaning a feature layer with that title does not exist), upload the GeoJSON \n",
    "    # & publish as a new feature service\n",
    "    geojson_item = gis.content.add(item_properties, bike_url)\n",
    "    live_bike_fl = geojson_item.publish()\n",
    "    print(\"Successfully created new feature service and published live bike location\")\n",
    "    \n",
    "else: \n",
    "    # if search list is NOT empty (meaning feature layer with that title already exists), overwrite the data within the FL\n",
    "    live_data_fl = fl_search[0]\n",
    "    content = FeatureLayerCollection.fromitem(live_data_fl)\n",
    "    \n",
    "    try:\n",
    "        # overwriting the FLC data with new data\n",
    "        overwrite_result = content.manager.overwrite(bike_url)\n",
    "\n",
    "        # overwrite_result will have {\"success\":True} or {\"success\":False} - check the result\n",
    "        if not overwrite_result['success']:\n",
    "            print(\"Failed to overwrite Feature Layer Collection with new GeoJSON Data\")\n",
    "        else:\n",
    "            print(\"Successfully updated Feature Layer Collection with new GeoJSON Data\")\n",
    "        \n",
    "    except Exception as e:\n",
    "        print(\"An error occurred during the process: {e}\")"
   ]
  },
  {
   "cell_type": "code",
   "execution_count": 22,
   "id": "f23bc4da",
   "metadata": {},
   "outputs": [
    {
     "name": "stdout",
     "output_type": "stream",
     "text": [
      "Map already exists within AGOL Content\n"
     ]
    }
   ],
   "source": [
    "#  Search AGOL content to see if a map has already been created\n",
    "\n",
    "# the title we are searching for\n",
    "map_title = \"DublinBike_LocationMap\"\n",
    "\n",
    "# searching in AGOL for these maps\n",
    "existing_maps = gis.content.search(query=f\"title:'{map_title}'\", item_type = \"Web Map\")\n",
    "\n",
    "if existing_maps:\n",
    "    # retrieve the existing web map item\n",
    "    web_map_item = existing_maps[0]\n",
    "    web_map = WebMap(web_map_item)\n",
    "    print (\"Map already exists within AGOL Content\")\n",
    "\n",
    "else:\n",
    "    print(\"No existing map found\")"
   ]
  },
  {
   "cell_type": "code",
   "execution_count": 28,
   "id": "702348ee",
   "metadata": {},
   "outputs": [
    {
     "name": "stdout",
     "output_type": "stream",
     "text": [
      "Do you wish to update the map? (Y/N): n\n",
      "No updates required. Access the existing map here: https://www.arcgis.com/home/webmap/viewer.html?webmap=5f4db8353a1f4b10bf6a8578b9b61372\n"
     ]
    },
    {
     "data": {
      "application/vnd.jupyter.widget-view+json": {
       "model_id": "06c10f4f2cda46ff90bd27d8d49062be",
       "version_major": 2,
       "version_minor": 0
      },
      "text/plain": [
       "MapView(hide_mode_switch=True, jupyter_target='notebook', layout=Layout(height='400px', width='100%'), ready=T…"
      ]
     },
     "metadata": {},
     "output_type": "display_data"
    },
    {
     "data": {
      "text/html": [
       "<div class=\"map-static-img-preview-e66e115f-a806-4f03-8f73-16fcecb4ef6d\"><img src=\"\"></img></div>"
      ],
      "text/plain": [
       "<IPython.core.display.HTML object>"
      ]
     },
     "metadata": {},
     "output_type": "display_data"
    },
    {
     "data": {
      "text/html": [
       "<div class=\"map-html-embed-preview-e66e115f-a806-4f03-8f73-16fcecb4ef6d\"></div>"
      ],
      "text/plain": [
       "<IPython.core.display.HTML object>"
      ]
     },
     "metadata": {},
     "output_type": "display_data"
    }
   ],
   "source": [
    "if existing_maps:\n",
    "    # Ask user if they want to update the map\n",
    "    user_input = input(\"Do you wish to update the map? (Y/N): \").strip().upper()\n",
    "    \n",
    "    if user_input == 'Y':\n",
    "        # update the map with layers defined but first check if layers are already in the map before adding\n",
    "        layers_to_add = [live_bike_fl, BikeStationsZone_data]\n",
    "        for layer in layers_to_add:\n",
    "            if not any(existing_layer.id == layer.id for existing_layer in web_map.layers):\n",
    "                web_map.add_layer(layer)\n",
    "                \n",
    "        web_map.update()\n",
    "        web_map_url = f\"https://www.arcgis.com/home/webmap/viewer.html?webmap={web_map_item.id}\"\n",
    "        print(f\"Webmap updated successfully. Access the map here: {web_map_url}\")\n",
    "        display(web_map)\n",
    "        \n",
    "    else:\n",
    "        # user has no updates so construct a URL to access the map\n",
    "        web_map_url = f\"https://www.arcgis.com/home/webmap/viewer.html?webmap={web_map_item.id}\"\n",
    "        print(f\"No updates required. Access the existing map here: {web_map_url}\")\n",
    "        display(web_map)\n",
    "\n",
    "else: \n",
    "    # if map doesn't exist, create one\n",
    "    web_map = WebMap()\n",
    "    web_map.add_layer(layer=live_bike_fl)\n",
    "    web_map.add_layer(BikeStationsZone_data)\n",
    "    web_map_properties = {\n",
    "        \"title\": map_title,\n",
    "        \"description\": \"A web map of live Dublin Bike locations and their zones/stations obtained from Smart Dublin API\",\n",
    "        \"tags\": \"Dublin Bike, locations, live webmap\",\n",
    "        \"snippet\": \"A webmap of Dublin Bike locations\"\n",
    "    }\n",
    "    \n",
    "    web_map_item = web_map.save(item_properties=web_map_properties)\n",
    "    web_map_url = f\"https://www.arcgis.com/home/webmap/viewer.html?webmap={web_map_item.id}\"\n",
    "    print(f\"New web map created and saved. Access it here: {web_map_url}\")\n",
    "    \n",
    "    try:\n",
    "        display(web_map)\n",
    "\n",
    "    except ImportError:\n",
    "        print(\"Display functionality not available in this environment.\")"
   ]
  },
  {
   "cell_type": "code",
   "execution_count": 25,
   "id": "90c81220",
   "metadata": {},
   "outputs": [],
   "source": [
    "# need to do:\n",
    "# improve commenting \n",
    "# improve webmap - symbology?\n",
    "# product heatmap of current locations - deduce busy areas??"
   ]
  },
  {
   "cell_type": "code",
   "execution_count": null,
   "id": "b71e9d3e",
   "metadata": {},
   "outputs": [],
   "source": []
  }
 ],
 "metadata": {
  "kernelspec": {
   "display_name": "Python 3 (ipykernel)",
   "language": "python",
   "name": "python3"
  },
  "language_info": {
   "codemirror_mode": {
    "name": "ipython",
    "version": 3
   },
   "file_extension": ".py",
   "mimetype": "text/x-python",
   "name": "python",
   "nbconvert_exporter": "python",
   "pygments_lexer": "ipython3",
   "version": "3.9.16"
  }
 },
 "nbformat": 4,
 "nbformat_minor": 5
}
