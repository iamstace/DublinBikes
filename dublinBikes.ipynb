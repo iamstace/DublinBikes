{
 "cells": [
  {
   "cell_type": "code",
   "execution_count": 7,
   "id": "21b8b17f",
   "metadata": {},
   "outputs": [
    {
     "name": "stdout",
     "output_type": "stream",
     "text": [
      "Modules Loaded\n"
     ]
    }
   ],
   "source": [
    "import getpass\n",
    "from arcgis.gis import GIS\n",
    "from arcgis.features import FeatureLayerCollection\n",
    "import requests\n",
    "import os\n",
    "\n",
    "print('Modules Loaded')"
   ]
  },
  {
   "cell_type": "code",
   "execution_count": 8,
   "id": "eb3c4f5a-d2a3-4a61-8617-ad4cd180277e",
   "metadata": {},
   "outputs": [
    {
     "name": "stdout",
     "output_type": "stream",
     "text": [
      "Enter your ArcGIS Online username:Stacey_Vernon_GES23\n",
      "Enter your ArcGIS Onine password:········\n",
      "Logged in as: Stacey_Vernon_GES23\n"
     ]
    }
   ],
   "source": [
    "# Login to ArcGIS Online (AGOL) by requesting the user to input a username and password\n",
    "# documentation on getpass: https://docs.python.org/3/library/getpass.html\n",
    "\n",
    "def login_AGOL():\n",
    "    # prompt the user to enter their AGOL username\n",
    "    username = input(\"Enter your ArcGIS Online username:\")\n",
    "    \n",
    "    # prompt the user to enter their AGOL password (without echoing)\n",
    "    password = getpass.getpass(\"Enter your ArcGIS Onine password:\")\n",
    "    \n",
    "    # create a GIS object and login to AGOL\n",
    "    gis = GIS(\"https://www.arcgis.com\", username, password)\n",
    "    \n",
    "    # return the object\n",
    "    return gis\n",
    "\n",
    "# run module\n",
    "gis = login_AGOL()\n",
    "\n",
    "# confirm user login \n",
    "print(\"Logged in as:\", gis.users.me.username)"
   ]
  },
  {
   "cell_type": "code",
   "execution_count": 9,
   "id": "8eb05134",
   "metadata": {},
   "outputs": [
    {
     "name": "stdout",
     "output_type": "stream",
     "text": [
      "Bike Station and Zone data already exists in AGOL.\n"
     ]
    }
   ],
   "source": [
    "# Utilise the AGOL API and the a \"static\" GeoJSON file to publish data to a feature service. Specifically publish\n",
    "# Dublin Bike zone data.\n",
    "# documentation on using the ArcGIS API to create a feature service from GeoJSON here: https://developers.arcgis.com/python/guide/import-data/\n",
    "# We will determine if a feature layer exists, if not we will create one but if it does - we skip this function\n",
    "\n",
    "# generate a list of the below search conditions in our AGOL Item Content\n",
    "zoneSearch = gis.content.search(\"title:BikeStations_Zones\",item_type=\"Feature Layer\")\n",
    "\n",
    "# if list is empty, create a new feature layer\n",
    "if not zoneSearch:\n",
    "\n",
    "# set up the feature service properties in AGOL for the stations and zone dataset\n",
    "    item_properties = {\n",
    "    \"title\": \"BikeStations_Zones\", #provide a title for your item\n",
    "    \"description\": \"Dublin Bike Stations and Zones generated from GeoJSON provided by Bleeper Bikes\", #add a description of the data\n",
    "    \"tags\": \"dublinBikes\", # add tags to data to improve AGOL search functionality\n",
    "    \"type\": \"GeoJson\" # define the type of data you are trying to pubish\n",
    "    }\n",
    "\n",
    "    # URL link to the GeoJSON file\n",
    "    geojson_url = \"https://data.smartdublin.ie/dataset/09870e46-26a3-4dc2-b632-4d1fba5092f9/resource/40a718a8-cb99-468d-962b-af4fed4b0def/download/bleeperbike_map.geojson\"\n",
    "    geojson_item = gis.content.add(item_properties, geojson_url)\n",
    "\n",
    "    # publish the GeoJSON as a feature layer\n",
    "    BikeStationZone_data = geojson_item.publish()\n",
    "    print(\"Data published. New feature layer created.\")\n",
    "else:\n",
    "    print(\"Bike Station and Zone data already exists in AGOL.\")"
   ]
  },
  {
   "cell_type": "code",
   "execution_count": 10,
   "id": "8a9a8ec6",
   "metadata": {
    "scrolled": true
   },
   "outputs": [
    {
     "name": "stdout",
     "output_type": "stream",
     "text": [
      "Success\n"
     ]
    }
   ],
   "source": [
    "# Dublin Bike locations are available as a live dataset, updated every 5 minutes\n",
    "# pull in the Dublin Bike locations from the API\n",
    "\n",
    "# URL to API endpoint for bike locations\n",
    "bike_url = \"https://data.smartdublin.ie/bleeperbike-api/bikes/bleeper_bikes/current/bikes.geojson\"\n",
    "\n",
    "status = False\n",
    "while status != True: \n",
    "    response = requests.get(bike_url)\n",
    "    # if the request was successful (status code 200), get the data\n",
    "    if response.status_code in [200,201]:\n",
    "        # parse the JSON response\n",
    "        bikeData = response.json()\n",
    "        status = True\n",
    "        print ('Successfully retrieved data')\n",
    "    else:\n",
    "        status = False\n",
    "        time.sleep(60)\n",
    "        print ('Failed to retrieve data, trying again.')    "
   ]
  },
  {
   "cell_type": "code",
   "execution_count": 14,
   "id": "c8099b84",
   "metadata": {},
   "outputs": [
    {
     "name": "stdout",
     "output_type": "stream",
     "text": [
      "Successfully created new feature service and published live bike location\n"
     ]
    }
   ],
   "source": [
    "# create a FLC from the GeoJSON\n",
    "\n",
    "# set up the feature service properties in AGOL for the stations and zone dataset\n",
    "item_properties = {\n",
    "    \"title\": \"Bike_Locations\", #provide a title for your item\n",
    "    \"description\": \"Dublin Bike current locations\", #add a description of the data\n",
    "    \"tags\": \"dublinBikes\", # add tags to data to improve AGOL search functionality\n",
    "    \"type\": \"GeoJson\" # define the type of data you are trying to pubish\n",
    "    }\n",
    "    \n",
    "# search AGOL contents to check if the layer already exists\n",
    "fl_search = gis.content.search(\"title:Bike_Locations\",item_type=\"Feature Layer\")\n",
    "\n",
    "if not fl_search:\n",
    "    # if search list is empty (meaning a feature layer with that title does not exist), upload the GeoJSON \n",
    "    # & publish as a new feature service\n",
    "    geojson_item = gis.content.add(item_properties, bike_url)\n",
    "    live_bike_fl = geojson_item.publish()\n",
    "    print(\"Successfully created new feature service and published live bike location\")\n",
    "    \n",
    "else: \n",
    "    # if search list is NOT empty (meaning feature layer with that title already exists), overwrite the data within the FL\n",
    "    live_data_fl = fl_search[0]\n",
    "    content = FeatureLayerCollection.fromitem(live_data_fl)\n",
    "    overwrite_result = content.manager.overwrite(bike_url)\n",
    "    \n",
    "    # overwrite_result will have {\"success\":True} or {\"success\":False}\n",
    "    if not overwrite_result['success']:\n",
    "        # if not true\n",
    "        print(\"Failed to overwrite Feature Layer Collection with new GeoJSON Data\")\n",
    "    else:\n",
    "        # if true\n",
    "        print(\"Successfully updated Feature Layer Collection with new GeoJSON Data\")"
   ]
  },
  {
   "cell_type": "code",
   "execution_count": null,
   "id": "90c81220",
   "metadata": {},
   "outputs": [],
   "source": [
    "# need to do:\n",
    "# improve commenting \n",
    "# add in docstrings\n",
    "# publish live bike data\n",
    "# get live bike data to refresh\n",
    "# display in webmap\n",
    "# product heatmap of current locations - deduce busy areas??"
   ]
  }
 ],
 "metadata": {
  "kernelspec": {
   "display_name": "Python 3 (ipykernel)",
   "language": "python",
   "name": "python3"
  },
  "language_info": {
   "codemirror_mode": {
    "name": "ipython",
    "version": 3
   },
   "file_extension": ".py",
   "mimetype": "text/x-python",
   "name": "python",
   "nbconvert_exporter": "python",
   "pygments_lexer": "ipython3",
   "version": "3.9.16"
  }
 },
 "nbformat": 4,
 "nbformat_minor": 5
}
