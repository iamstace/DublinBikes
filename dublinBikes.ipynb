{
 "cells": [
  {
   "cell_type": "code",
   "execution_count": 114,
   "id": "21b8b17f",
   "metadata": {},
   "outputs": [
    {
     "name": "stdout",
     "output_type": "stream",
     "text": [
      "Modules Loaded\n"
     ]
    }
   ],
   "source": [
    "import getpass\n",
    "from arcgis.gis import GIS\n",
    "from arcgis.features import FeatureLayerCollection\n",
    "from arcgis.mapping import WebMap\n",
    "import requests\n",
    "import os\n",
    "import time\n",
    "\n",
    "print('Modules Loaded')"
   ]
  },
  {
   "cell_type": "code",
   "execution_count": 128,
   "id": "eb3c4f5a-d2a3-4a61-8617-ad4cd180277e",
   "metadata": {},
   "outputs": [
    {
     "name": "stdout",
     "output_type": "stream",
     "text": [
      "Enter your ArcGIS Online username:Stacey_Vernon_GES23\n",
      "Enter your ArcGIS Online password:········\n",
      "Logged in as: Stacey_Vernon_GES23\n",
      "Logged in successfully.\n"
     ]
    }
   ],
   "source": [
    "# Login to ArcGIS Online (AGOL) by requesting the user to input a username and password\n",
    "# documentation on getpass: https://docs.python.org/3/library/getpass.html\n",
    "\n",
    "def login_AGOL():\n",
    "    try:\n",
    "        # prompt the user to enter their AGOL username\n",
    "        username = input(\"Enter your ArcGIS Online username:\")\n",
    "\n",
    "        # prompt the user to enter their AGOL password (without echoing)\n",
    "        password = getpass.getpass(\"Enter your ArcGIS Online password:\")\n",
    "\n",
    "        # create a GIS object and login to AGOL\n",
    "        gis = GIS(\"https://www.arcgis.com\", username, password)\n",
    "\n",
    "        # confirm the login was successful\n",
    "        if gis.users.me is not None:\n",
    "            print (\"Logged in as:\", gis.users.me.username)\n",
    "        else:\n",
    "            print (\"Log in failed. Please check credientials.\")\n",
    "    \n",
    "        # return the object\n",
    "        return gis\n",
    "    \n",
    "    except Exception as e:\n",
    "        print (\"An error occurred during login:\", e)\n",
    "        return None\n",
    "    \n",
    "# run the login function\n",
    "\n",
    "gis = login_AGOL()\n",
    "\n",
    "if gis:\n",
    "    # confirm the user login\n",
    "    print (\"Logged in successfully.\")\n",
    "else:\n",
    "    print (\"Failed to login.\")\n"
   ]
  },
  {
   "cell_type": "code",
   "execution_count": 125,
   "id": "8eb05134",
   "metadata": {},
   "outputs": [
    {
     "name": "stdout",
     "output_type": "stream",
     "text": [
      "Bike Station and Zone data already exists in AGOL.\n"
     ]
    }
   ],
   "source": [
    "# Utilise the AGOL API and the a \"static\" GeoJSON file to publish data to a feature service. Specifically publish\n",
    "# Dublin Bike zone data.\n",
    "# documentation on using the ArcGIS API to create a feature service from GeoJSON here: https://developers.arcgis.com/python/guide/import-data/\n",
    "# We will determine if a feature layer exists, if not we will create one but if it does - we skip this function\n",
    "\n",
    "BikeStationsZone_data = None\n",
    "\n",
    "# generate a list of the below search conditions in our AGOL Item Content\n",
    "zoneSearch = gis.content.search(\"title:BikeStations_Zones\",item_type=\"Feature Layer\")\n",
    "\n",
    "# if list is empty, create a new feature layer\n",
    "if not zoneSearch:\n",
    "\n",
    "# set up the feature service properties in AGOL for the stations and zone dataset\n",
    "    item_properties = {\n",
    "    \"title\": \"BikeStations_Zones\", #provide a title for your item\n",
    "    \"description\": \"Dublin Bike Stations and Zones generated from GeoJSON provided by Bleeper Bikes\", #add a description of the data\n",
    "    \"tags\": \"dublinBikes\", # add tags to data to improve AGOL search functionality\n",
    "    \"type\": \"GeoJson\" # define the type of data you are trying to pubish\n",
    "    }\n",
    "\n",
    "    # URL link to the GeoJSON file\n",
    "    geojson_url = \"https://data.smartdublin.ie/dataset/09870e46-26a3-4dc2-b632-4d1fba5092f9/resource/40a718a8-cb99-468d-962b-af4fed4b0def/download/bleeperbike_map.geojson\"\n",
    "    geojson_item = gis.content.add(item_properties, geojson_url)\n",
    "\n",
    "    # publish the GeoJSON as a feature layer\n",
    "    BikeStationsZone_data = geojson_item.publish()\n",
    "    print(\"Data published. New feature layer created.\")\n",
    "    \n",
    "else:\n",
    "    \n",
    "    # if the feature layer already exists, handle it\n",
    "    BikeStationsZone_data = zoneSearch[0]\n",
    "    print(\"Bike Station and Zone data already exists in AGOL.\")\n",
    "    \n",
    "    \n",
    "### NB seems to be an issue if the service is in your recycle bin "
   ]
  },
  {
   "cell_type": "code",
   "execution_count": 117,
   "id": "8a9a8ec6",
   "metadata": {
    "scrolled": true
   },
   "outputs": [
    {
     "name": "stdout",
     "output_type": "stream",
     "text": [
      "Successfully retrieved data\n"
     ]
    }
   ],
   "source": [
    "# Dublin Bike locations are available as a live dataset, updated every 5 minutes\n",
    "# pull in the Dublin Bike locations from the API\n",
    "\n",
    "# URL to API endpoint for bike locations\n",
    "bike_url = \"https://data.smartdublin.ie/bleeperbike-api/bikes/bleeper_bikes/current/bikes.geojson\"\n",
    "\n",
    "status = False\n",
    "while status != True: \n",
    "    response = requests.get(bike_url)\n",
    "    # if the request was successful (status code 200), get the data\n",
    "    if response.status_code in [200,201]:\n",
    "        # parse the JSON response\n",
    "        bikeData = response.json()\n",
    "        status = True\n",
    "        print ('Successfully retrieved data')\n",
    "    else:\n",
    "        status = False\n",
    "        time.sleep(60)\n",
    "        print ('Failed to retrieve data, trying again.')    "
   ]
  },
  {
   "cell_type": "code",
   "execution_count": 118,
   "id": "ebd12a13",
   "metadata": {},
   "outputs": [
    {
     "name": "stdout",
     "output_type": "stream",
     "text": [
      "Successfully updated Feature Layer Collection with new GeoJSON Data\n"
     ]
    }
   ],
   "source": [
    "# create a FLC from the GeoJSON\n",
    "\n",
    "# set up the feature service properties in AGOL for the stations and zone dataset\n",
    "item_properties = {\n",
    "    \"title\": \"Bike_Locations\", #provide a title for your item\n",
    "    \"description\": \"Dublin Bike current locations\", #add a description of the data\n",
    "    \"tags\": \"dublinBikes\", # add tags to data to improve AGOL search functionality\n",
    "    \"type\": \"GeoJson\" # define the type of data you are trying to pubish\n",
    "    }\n",
    "    \n",
    "# search AGOL contents to check if the layer already exists\n",
    "fl_search = gis.content.search(\"title:Bike_Locations\",item_type=\"Feature Layer\")\n",
    "\n",
    "if not fl_search:\n",
    "    # if search list is empty (meaning a feature layer with that title does not exist), upload the GeoJSON \n",
    "    # & publish as a new feature service\n",
    "    geojson_item = gis.content.add(item_properties, bike_url)\n",
    "    live_bike_fl = geojson_item.publish()\n",
    "    print(\"Successfully created new feature service and published live bike location\")\n",
    "    \n",
    "else: \n",
    "    # if search list is NOT empty (meaning feature layer with that title already exists), overwrite the data within the FL\n",
    "    live_data_fl = fl_search[0]\n",
    "    content = FeatureLayerCollection.fromitem(live_data_fl)\n",
    "    overwrite_result = content.manager.overwrite(bike_url)\n",
    "    \n",
    "    # overwrite_result will have {\"success\":True} or {\"success\":False}\n",
    "    if not overwrite_result['success']:\n",
    "        # if not true\n",
    "        print(\"Failed to overwrite Feature Layer Collection with new GeoJSON Data\")\n",
    "    else:\n",
    "        # if true\n",
    "        print(\"Successfully updated Feature Layer Collection with new GeoJSON Data\")"
   ]
  },
  {
   "cell_type": "code",
   "execution_count": 119,
   "id": "f23bc4da",
   "metadata": {},
   "outputs": [
    {
     "name": "stdout",
     "output_type": "stream",
     "text": [
      "Map already exists within AGOL Content\n"
     ]
    }
   ],
   "source": [
    "#  Search AGOL content to see if a map has already been created\n",
    "\n",
    "map_title = \"DublinBike_LocationMap\"\n",
    "existing_maps = gis.content.search(query=f\"title:'{map_title}'\", item_type = \"Web Map\")\n",
    "\n",
    "if existing_maps:\n",
    "    # retrieve the existing web map item\n",
    "    web_map_item = existing_maps[0]\n",
    "    web_map = WebMap(web_map_item)\n",
    "    print (\"Map already exists within AGOL Content\")\n",
    "\n",
    "else:\n",
    "    print(\"No existing map found\")"
   ]
  },
  {
   "cell_type": "code",
   "execution_count": 122,
   "id": "702348ee",
   "metadata": {},
   "outputs": [
    {
     "name": "stdout",
     "output_type": "stream",
     "text": [
      "Do you wish to update the map? (Y/N): y\n",
      "Web map updated successfully\n"
     ]
    }
   ],
   "source": [
    "if existing_maps:\n",
    "    # Ask user if they want to update the map\n",
    "    user_input = input(\"Do you wish to update the map? (Y/N): \").strip().upper()\n",
    "    \n",
    "    if user_input == 'Y':\n",
    "        # update the map with layers defined below\n",
    "        web_map.add_layer(layer=live_bike_fl)\n",
    "        web_map.add_layer(BikeStationsZone_data)\n",
    "        web_map.update()\n",
    "        \n",
    "        print(\"Web map updated successfully\")\n",
    "        \n",
    "    else:\n",
    "        # user has no updates so construct a URL to access the map\n",
    "        web_map_url = f\"https://www.arcgis.com/home/webmap/viewer.html?webmap={web_map_item.id}\"\n",
    "        print(f\"Displaying existing map URL: {web_map_url}\")\n",
    "\n",
    "else: \n",
    "    # if map doesn't exist, create one\n",
    "    web_map = WebMap()\n",
    "    web_map.add_layer(layer=live_bike_fl)\n",
    "    web_map.add_layer(BikeStationsZone_data)\n",
    "    web_map_properties = {\n",
    "        \"title\": map_title,\n",
    "        \"description\": \"A web map of live Dublin Bike locations and their zones/stations obtained from Smart Dublin API\",\n",
    "        \"tags\": \"Dublin Bike, locations, live webmap\",\n",
    "        \"snippet\": \"A webmap of Dublin Bike locations\"\n",
    "    }\n",
    "    \n",
    "    web_map.save(item_properties=web_map_properties)\n",
    "    print (\"New webmap created and saved\")"
   ]
  },
  {
   "cell_type": "code",
   "execution_count": 123,
   "id": "ec4083c8",
   "metadata": {},
   "outputs": [
    {
     "name": "stdout",
     "output_type": "stream",
     "text": [
      "URL for AGOL Map: https://www.arcgis.com/home/webmap/viewer.html?webmap=626eed6129674ed3b36d545af0c282eb\n"
     ]
    },
    {
     "data": {
      "application/vnd.jupyter.widget-view+json": {
       "model_id": "773f5611533948b8af4fbcc0e5d3133f",
       "version_major": 2,
       "version_minor": 0
      },
      "text/plain": [
       "MapView(hide_mode_switch=True, jupyter_target='notebook', layout=Layout(height='400px', width='100%'), ready=T…"
      ]
     },
     "metadata": {},
     "output_type": "display_data"
    },
    {
     "data": {
      "text/html": [
       "<div class=\"map-static-img-preview-50cdca89-e990-4696-8499-12a0b30aded8\"><img src=\"\"></img></div>"
      ],
      "text/plain": [
       "<IPython.core.display.HTML object>"
      ]
     },
     "metadata": {},
     "output_type": "display_data"
    },
    {
     "data": {
      "text/html": [
       "<div class=\"map-html-embed-preview-50cdca89-e990-4696-8499-12a0b30aded8\"></div>"
      ],
      "text/plain": [
       "<IPython.core.display.HTML object>"
      ]
     },
     "metadata": {},
     "output_type": "display_data"
    }
   ],
   "source": [
    "# create and display webmap URL\n",
    "web_map_url = f\"https://www.arcgis.com/home/webmap/viewer.html?webmap={web_map_item.id}\"\n",
    "print(f\"URL for AGOL Map: {web_map_url}\")\n",
    "\n",
    "#display map within notebook (if supported)\n",
    "        \n",
    "try:\n",
    "    display(web_map)\n",
    "\n",
    "except ImportError:\n",
    "    print(\"Display functionality not available in this environment.\")"
   ]
  },
  {
   "cell_type": "code",
   "execution_count": null,
   "id": "90c81220",
   "metadata": {},
   "outputs": [],
   "source": [
    "# need to do:\n",
    "# improve commenting \n",
    "# improve webmap - symbology?\n",
    "# product heatmap of current locations - deduce busy areas??"
   ]
  }
 ],
 "metadata": {
  "kernelspec": {
   "display_name": "Python 3 (ipykernel)",
   "language": "python",
   "name": "python3"
  },
  "language_info": {
   "codemirror_mode": {
    "name": "ipython",
    "version": 3
   },
   "file_extension": ".py",
   "mimetype": "text/x-python",
   "name": "python",
   "nbconvert_exporter": "python",
   "pygments_lexer": "ipython3",
   "version": "3.9.16"
  }
 },
 "nbformat": 4,
 "nbformat_minor": 5
}
