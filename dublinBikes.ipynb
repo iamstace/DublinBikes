{
 "cells": [
  {
   "cell_type": "code",
   "execution_count": null,
   "id": "eb3c4f5a-d2a3-4a61-8617-ad4cd180277e",
   "metadata": {},
   "outputs": [],
   "source": [
    "# Login to ArcGIS Online\n",
    "\n",
    "def login_AGOL():\n",
    "    username = input(\"Enter your ArcGIS Online username:\")\n",
    "    password = getpass.getpass(\"Enter your ArcGIS Onine password:\")\n",
    "    gis = GIS(\"https://www.arcgis.com\",username,password)\n",
    "    return gis\n",
    "\n",
    "gis = login_AGOL()"
   ]
  },
  {
   "cell_type": "code",
   "execution_count": null,
   "id": "02f4685b",
   "metadata": {},
   "outputs": [],
   "source": []
  }
 ],
 "metadata": {
  "kernelspec": {
   "display_name": "Python 3 (ipykernel)",
   "language": "python",
   "name": "python3"
  },
  "language_info": {
   "codemirror_mode": {
    "name": "ipython",
    "version": 3
   },
   "file_extension": ".py",
   "mimetype": "text/x-python",
   "name": "python",
   "nbconvert_exporter": "python",
   "pygments_lexer": "ipython3",
   "version": "3.9.16"
  }
 },
 "nbformat": 4,
 "nbformat_minor": 5
}
