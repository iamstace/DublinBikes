{
 "cells": [
  {
   "cell_type": "code",
   "execution_count": 1,
   "id": "21b8b17f",
   "metadata": {},
   "outputs": [
    {
     "name": "stdout",
     "output_type": "stream",
     "text": [
      "Modules Loaded\n"
     ]
    }
   ],
   "source": [
    "import getpass\n",
    "from arcgis.gis import GIS\n",
    "\n",
    "print('Modules Loaded')"
   ]
  },
  {
   "cell_type": "code",
   "execution_count": 2,
   "id": "eb3c4f5a-d2a3-4a61-8617-ad4cd180277e",
   "metadata": {},
   "outputs": [
    {
     "name": "stdout",
     "output_type": "stream",
     "text": [
      "Enter your ArcGIS Online username:stacey_vernon_build\n",
      "Enter your ArcGIS Onine password:········\n",
      "Logged in as: stacey_vernon_build\n"
     ]
    }
   ],
   "source": [
    "# Login to ArcGIS Online (AGOL) by requesting the user to input a username and password\n",
    "# documentation on getpass: https://docs.python.org/3/library/getpass.html\n",
    "\n",
    "def login_AGOL():\n",
    "    # prompt the user to enter their AGOL username\n",
    "    username = input(\"Enter your ArcGIS Online username:\")\n",
    "    \n",
    "    # prompt the user to enter their AGOL password (without echoing)\n",
    "    password = getpass.getpass(\"Enter your ArcGIS Onine password:\")\n",
    "    \n",
    "    # create a GIS object and login to AGOL\n",
    "    gis = GIS(\"https://www.arcgis.com\", username, password)\n",
    "    \n",
    "    # return the object\n",
    "    return gis\n",
    "\n",
    "# run module\n",
    "gis = login_AGOL()\n",
    "\n",
    "# confirm user login \n",
    "print(\"Logged in as:\", gis.users.me.username)"
   ]
  },
  {
   "cell_type": "code",
   "execution_count": null,
   "id": "8eb05134",
   "metadata": {},
   "outputs": [],
   "source": []
  }
 ],
 "metadata": {
  "kernelspec": {
   "display_name": "Python 3 (ipykernel)",
   "language": "python",
   "name": "python3"
  },
  "language_info": {
   "codemirror_mode": {
    "name": "ipython",
    "version": 3
   },
   "file_extension": ".py",
   "mimetype": "text/x-python",
   "name": "python",
   "nbconvert_exporter": "python",
   "pygments_lexer": "ipython3",
   "version": "3.9.16"
  }
 },
 "nbformat": 4,
 "nbformat_minor": 5
}
